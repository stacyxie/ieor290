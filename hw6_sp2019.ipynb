{
 "cells": [
  {
   "cell_type": "markdown",
   "metadata": {},
   "source": [
    "# Data-X Spring 2019: Homework 06 \n",
    "\n",
    "## Name : Liyuan Xie\n",
    "## SID :3034269866\n",
    "## Course (IEOR 135/290) : IEOR290\n",
    "\n",
    "### Machine Learning\n",
    "\n",
    "\n",
    "\n",
    "In this homework, you will do some exercises with prediction. We will cover these algorithms in class, but this is for you to have some hands on with these in scikit-learn. You can refer - https://github.com/ikhlaqsidhu/data-x/blob/master/05a-tools-predicition-titanic/titanic.ipynb\n",
    "\n",
    "Display all your outputs.\n"
   ]
  },
  {
   "cell_type": "code",
   "execution_count": 2,
   "metadata": {},
   "outputs": [],
   "source": [
    "import numpy as np\n",
    "import pandas as pd"
   ]
  },
  {
   "cell_type": "code",
   "execution_count": 3,
   "metadata": {},
   "outputs": [],
   "source": [
    " # machine learning libraries\n",
    "from sklearn.linear_model import LogisticRegression\n",
    "from sklearn.ensemble import RandomForestClassifier\n",
    "from sklearn.ensemble import AdaBoostClassifier\n",
    "from sklearn.linear_model import Perceptron\n",
    "from sklearn.tree import DecisionTreeClassifier"
   ]
  },
  {
   "cell_type": "code",
   "execution_count": 4,
   "metadata": {},
   "outputs": [],
   "source": [
    "# No warnings\n",
    "import warnings\n",
    "warnings.filterwarnings('ignore') # Filter out warnings"
   ]
  },
  {
   "cell_type": "markdown",
   "metadata": {},
   "source": [
    "\n",
    "\n",
    "__ 1. Read __`diabetesdata.csv`__ file into a pandas dataframe. \n",
    "About the data: __\n",
    "\n",
    "1. __TimesPregnant__: Number of times pregnant \n",
    "2. __glucoseLevel__: Plasma glucose concentration a 2 hours in an oral glucose tolerance test \n",
    "3. __BP__: Diastolic blood pressure (mm Hg)  \n",
    "5. __insulin__: 2-Hour serum insulin (mu U/ml) \n",
    "6. __BMI__: Body mass index (weight in kg/(height in m)^2) \n",
    "7. __pedigree__: Diabetes pedigree function \n",
    "8. __Age__: Age (years) \n",
    "9. __IsDiabetic__: 0 if not diabetic or 1 if diabetic) \n",
    "\n",
    "\n",
    "\n",
    "\n",
    "\n",
    "\n"
   ]
  },
  {
   "cell_type": "code",
   "execution_count": 6,
   "metadata": {},
   "outputs": [
    {
     "data": {
      "text/html": [
       "<div>\n",
       "<style scoped>\n",
       "    .dataframe tbody tr th:only-of-type {\n",
       "        vertical-align: middle;\n",
       "    }\n",
       "\n",
       "    .dataframe tbody tr th {\n",
       "        vertical-align: top;\n",
       "    }\n",
       "\n",
       "    .dataframe thead th {\n",
       "        text-align: right;\n",
       "    }\n",
       "</style>\n",
       "<table border=\"1\" class=\"dataframe\">\n",
       "  <thead>\n",
       "    <tr style=\"text-align: right;\">\n",
       "      <th></th>\n",
       "      <th>TimesPregnant</th>\n",
       "      <th>glucoseLevel</th>\n",
       "      <th>BP</th>\n",
       "      <th>insulin</th>\n",
       "      <th>BMI</th>\n",
       "      <th>Pedigree</th>\n",
       "      <th>Age</th>\n",
       "      <th>IsDiabetic</th>\n",
       "    </tr>\n",
       "  </thead>\n",
       "  <tbody>\n",
       "    <tr>\n",
       "      <th>0</th>\n",
       "      <td>6</td>\n",
       "      <td>148.0</td>\n",
       "      <td>72</td>\n",
       "      <td>0</td>\n",
       "      <td>33.6</td>\n",
       "      <td>0.627</td>\n",
       "      <td>50.0</td>\n",
       "      <td>1</td>\n",
       "    </tr>\n",
       "    <tr>\n",
       "      <th>1</th>\n",
       "      <td>1</td>\n",
       "      <td>NaN</td>\n",
       "      <td>66</td>\n",
       "      <td>0</td>\n",
       "      <td>26.6</td>\n",
       "      <td>0.351</td>\n",
       "      <td>31.0</td>\n",
       "      <td>0</td>\n",
       "    </tr>\n",
       "    <tr>\n",
       "      <th>2</th>\n",
       "      <td>8</td>\n",
       "      <td>183.0</td>\n",
       "      <td>64</td>\n",
       "      <td>0</td>\n",
       "      <td>23.3</td>\n",
       "      <td>0.672</td>\n",
       "      <td>NaN</td>\n",
       "      <td>1</td>\n",
       "    </tr>\n",
       "    <tr>\n",
       "      <th>3</th>\n",
       "      <td>1</td>\n",
       "      <td>NaN</td>\n",
       "      <td>66</td>\n",
       "      <td>94</td>\n",
       "      <td>28.1</td>\n",
       "      <td>0.167</td>\n",
       "      <td>21.0</td>\n",
       "      <td>0</td>\n",
       "    </tr>\n",
       "    <tr>\n",
       "      <th>4</th>\n",
       "      <td>0</td>\n",
       "      <td>137.0</td>\n",
       "      <td>40</td>\n",
       "      <td>168</td>\n",
       "      <td>43.1</td>\n",
       "      <td>2.288</td>\n",
       "      <td>33.0</td>\n",
       "      <td>1</td>\n",
       "    </tr>\n",
       "  </tbody>\n",
       "</table>\n",
       "</div>"
      ],
      "text/plain": [
       "   TimesPregnant  glucoseLevel  BP  insulin   BMI  Pedigree   Age  IsDiabetic\n",
       "0              6         148.0  72        0  33.6     0.627  50.0           1\n",
       "1              1           NaN  66        0  26.6     0.351  31.0           0\n",
       "2              8         183.0  64        0  23.3     0.672   NaN           1\n",
       "3              1           NaN  66       94  28.1     0.167  21.0           0\n",
       "4              0         137.0  40      168  43.1     2.288  33.0           1"
      ]
     },
     "execution_count": 6,
     "metadata": {},
     "output_type": "execute_result"
    }
   ],
   "source": [
    "#Read data & print the head\n",
    "df = pd.read_csv(\"C:/Users/Liyuan Xie/Desktop/ieor290/diabetesdata.csv\")\n",
    "df.head()"
   ]
  },
  {
   "cell_type": "markdown",
   "metadata": {},
   "source": [
    "**2. Calculate the percentage of Null values in each column and display it. **"
   ]
  },
  {
   "cell_type": "code",
   "execution_count": 7,
   "metadata": {},
   "outputs": [
    {
     "data": {
      "text/html": [
       "<div>\n",
       "<style scoped>\n",
       "    .dataframe tbody tr th:only-of-type {\n",
       "        vertical-align: middle;\n",
       "    }\n",
       "\n",
       "    .dataframe tbody tr th {\n",
       "        vertical-align: top;\n",
       "    }\n",
       "\n",
       "    .dataframe thead th {\n",
       "        text-align: right;\n",
       "    }\n",
       "</style>\n",
       "<table border=\"1\" class=\"dataframe\">\n",
       "  <thead>\n",
       "    <tr style=\"text-align: right;\">\n",
       "      <th></th>\n",
       "      <th>column_name</th>\n",
       "      <th>percent_missing</th>\n",
       "    </tr>\n",
       "  </thead>\n",
       "  <tbody>\n",
       "    <tr>\n",
       "      <th>TimesPregnant</th>\n",
       "      <td>TimesPregnant</td>\n",
       "      <td>0.000000</td>\n",
       "    </tr>\n",
       "    <tr>\n",
       "      <th>glucoseLevel</th>\n",
       "      <td>glucoseLevel</td>\n",
       "      <td>4.427083</td>\n",
       "    </tr>\n",
       "    <tr>\n",
       "      <th>BP</th>\n",
       "      <td>BP</td>\n",
       "      <td>0.000000</td>\n",
       "    </tr>\n",
       "    <tr>\n",
       "      <th>insulin</th>\n",
       "      <td>insulin</td>\n",
       "      <td>0.000000</td>\n",
       "    </tr>\n",
       "    <tr>\n",
       "      <th>BMI</th>\n",
       "      <td>BMI</td>\n",
       "      <td>0.000000</td>\n",
       "    </tr>\n",
       "    <tr>\n",
       "      <th>Pedigree</th>\n",
       "      <td>Pedigree</td>\n",
       "      <td>0.000000</td>\n",
       "    </tr>\n",
       "    <tr>\n",
       "      <th>Age</th>\n",
       "      <td>Age</td>\n",
       "      <td>4.296875</td>\n",
       "    </tr>\n",
       "    <tr>\n",
       "      <th>IsDiabetic</th>\n",
       "      <td>IsDiabetic</td>\n",
       "      <td>0.000000</td>\n",
       "    </tr>\n",
       "  </tbody>\n",
       "</table>\n",
       "</div>"
      ],
      "text/plain": [
       "                 column_name  percent_missing\n",
       "TimesPregnant  TimesPregnant         0.000000\n",
       "glucoseLevel    glucoseLevel         4.427083\n",
       "BP                        BP         0.000000\n",
       "insulin              insulin         0.000000\n",
       "BMI                      BMI         0.000000\n",
       "Pedigree            Pedigree         0.000000\n",
       "Age                      Age         4.296875\n",
       "IsDiabetic        IsDiabetic         0.000000"
      ]
     },
     "execution_count": 7,
     "metadata": {},
     "output_type": "execute_result"
    }
   ],
   "source": [
    "columns = df.columns\n",
    "percent_missing = df.isnull().sum() * 100 / len(df)\n",
    "missing_value_df = pd.DataFrame({'column_name': columns,\n",
    "                                 'percent_missing': percent_missing})\n",
    "missing_value_df"
   ]
  },
  {
   "cell_type": "markdown",
   "metadata": {},
   "source": [
    "**3. Split __`data`__  into  __`train_df`__ and __`test_df`__  with 15% as test.**\n"
   ]
  },
  {
   "cell_type": "code",
   "execution_count": 8,
   "metadata": {},
   "outputs": [],
   "source": [
    "from sklearn.model_selection import train_test_split\n",
    "\n",
    "train_df, test_df = train_test_split(df, test_size=0.15)"
   ]
  },
  {
   "cell_type": "markdown",
   "metadata": {},
   "source": [
    "**4. Display the means of the features in train and test sets. Replace the null values in  __`train_df`__ and __`test_df`__  with the mean of EACH feature column separately for train and test. Display head of the dataframes.**"
   ]
  },
  {
   "cell_type": "code",
   "execution_count": 9,
   "metadata": {},
   "outputs": [
    {
     "data": {
      "text/plain": [
       "TimesPregnant      3.763804\n",
       "glucoseLevel     120.959807\n",
       "BP                68.914110\n",
       "insulin           80.765337\n",
       "BMI               31.945706\n",
       "Pedigree           0.472644\n",
       "Age               33.188498\n",
       "IsDiabetic         0.348160\n",
       "dtype: float64"
      ]
     },
     "execution_count": 9,
     "metadata": {},
     "output_type": "execute_result"
    }
   ],
   "source": [
    "train_df.mean()"
   ]
  },
  {
   "cell_type": "code",
   "execution_count": 10,
   "metadata": {},
   "outputs": [
    {
     "data": {
      "text/html": [
       "<div>\n",
       "<style scoped>\n",
       "    .dataframe tbody tr th:only-of-type {\n",
       "        vertical-align: middle;\n",
       "    }\n",
       "\n",
       "    .dataframe tbody tr th {\n",
       "        vertical-align: top;\n",
       "    }\n",
       "\n",
       "    .dataframe thead th {\n",
       "        text-align: right;\n",
       "    }\n",
       "</style>\n",
       "<table border=\"1\" class=\"dataframe\">\n",
       "  <thead>\n",
       "    <tr style=\"text-align: right;\">\n",
       "      <th></th>\n",
       "      <th>TimesPregnant</th>\n",
       "      <th>glucoseLevel</th>\n",
       "      <th>BP</th>\n",
       "      <th>insulin</th>\n",
       "      <th>BMI</th>\n",
       "      <th>Pedigree</th>\n",
       "      <th>Age</th>\n",
       "      <th>IsDiabetic</th>\n",
       "    </tr>\n",
       "  </thead>\n",
       "  <tbody>\n",
       "    <tr>\n",
       "      <th>123</th>\n",
       "      <td>5</td>\n",
       "      <td>132.0</td>\n",
       "      <td>80</td>\n",
       "      <td>0</td>\n",
       "      <td>26.8</td>\n",
       "      <td>0.186</td>\n",
       "      <td>69.0</td>\n",
       "      <td>0</td>\n",
       "    </tr>\n",
       "    <tr>\n",
       "      <th>625</th>\n",
       "      <td>4</td>\n",
       "      <td>90.0</td>\n",
       "      <td>88</td>\n",
       "      <td>54</td>\n",
       "      <td>37.7</td>\n",
       "      <td>0.362</td>\n",
       "      <td>29.0</td>\n",
       "      <td>0</td>\n",
       "    </tr>\n",
       "    <tr>\n",
       "      <th>423</th>\n",
       "      <td>2</td>\n",
       "      <td>115.0</td>\n",
       "      <td>64</td>\n",
       "      <td>0</td>\n",
       "      <td>30.8</td>\n",
       "      <td>0.421</td>\n",
       "      <td>21.0</td>\n",
       "      <td>0</td>\n",
       "    </tr>\n",
       "    <tr>\n",
       "      <th>705</th>\n",
       "      <td>6</td>\n",
       "      <td>80.0</td>\n",
       "      <td>80</td>\n",
       "      <td>0</td>\n",
       "      <td>39.8</td>\n",
       "      <td>0.177</td>\n",
       "      <td>28.0</td>\n",
       "      <td>0</td>\n",
       "    </tr>\n",
       "    <tr>\n",
       "      <th>134</th>\n",
       "      <td>2</td>\n",
       "      <td>96.0</td>\n",
       "      <td>68</td>\n",
       "      <td>49</td>\n",
       "      <td>21.1</td>\n",
       "      <td>0.647</td>\n",
       "      <td>26.0</td>\n",
       "      <td>0</td>\n",
       "    </tr>\n",
       "  </tbody>\n",
       "</table>\n",
       "</div>"
      ],
      "text/plain": [
       "     TimesPregnant  glucoseLevel  BP  insulin   BMI  Pedigree   Age  \\\n",
       "123              5         132.0  80        0  26.8     0.186  69.0   \n",
       "625              4          90.0  88       54  37.7     0.362  29.0   \n",
       "423              2         115.0  64        0  30.8     0.421  21.0   \n",
       "705              6          80.0  80        0  39.8     0.177  28.0   \n",
       "134              2          96.0  68       49  21.1     0.647  26.0   \n",
       "\n",
       "     IsDiabetic  \n",
       "123           0  \n",
       "625           0  \n",
       "423           0  \n",
       "705           0  \n",
       "134           0  "
      ]
     },
     "execution_count": 10,
     "metadata": {},
     "output_type": "execute_result"
    }
   ],
   "source": [
    "train_df.fillna(train_df.mean(),inplace=True)\n",
    "train_df.head()"
   ]
  },
  {
   "cell_type": "code",
   "execution_count": 11,
   "metadata": {},
   "outputs": [
    {
     "data": {
      "text/plain": [
       "TimesPregnant      4.301724\n",
       "glucoseLevel     121.330357\n",
       "BP                70.181034\n",
       "insulin           74.370690\n",
       "BMI               32.256034\n",
       "Pedigree           0.467560\n",
       "Age               34.302752\n",
       "IsDiabetic         0.353448\n",
       "dtype: float64"
      ]
     },
     "execution_count": 11,
     "metadata": {},
     "output_type": "execute_result"
    }
   ],
   "source": [
    "test_df.mean()"
   ]
  },
  {
   "cell_type": "code",
   "execution_count": 12,
   "metadata": {},
   "outputs": [
    {
     "data": {
      "text/html": [
       "<div>\n",
       "<style scoped>\n",
       "    .dataframe tbody tr th:only-of-type {\n",
       "        vertical-align: middle;\n",
       "    }\n",
       "\n",
       "    .dataframe tbody tr th {\n",
       "        vertical-align: top;\n",
       "    }\n",
       "\n",
       "    .dataframe thead th {\n",
       "        text-align: right;\n",
       "    }\n",
       "</style>\n",
       "<table border=\"1\" class=\"dataframe\">\n",
       "  <thead>\n",
       "    <tr style=\"text-align: right;\">\n",
       "      <th></th>\n",
       "      <th>TimesPregnant</th>\n",
       "      <th>glucoseLevel</th>\n",
       "      <th>BP</th>\n",
       "      <th>insulin</th>\n",
       "      <th>BMI</th>\n",
       "      <th>Pedigree</th>\n",
       "      <th>Age</th>\n",
       "      <th>IsDiabetic</th>\n",
       "    </tr>\n",
       "  </thead>\n",
       "  <tbody>\n",
       "    <tr>\n",
       "      <th>231</th>\n",
       "      <td>6</td>\n",
       "      <td>134.0</td>\n",
       "      <td>80</td>\n",
       "      <td>370</td>\n",
       "      <td>46.2</td>\n",
       "      <td>0.238</td>\n",
       "      <td>46.0</td>\n",
       "      <td>1</td>\n",
       "    </tr>\n",
       "    <tr>\n",
       "      <th>679</th>\n",
       "      <td>2</td>\n",
       "      <td>101.0</td>\n",
       "      <td>58</td>\n",
       "      <td>265</td>\n",
       "      <td>24.2</td>\n",
       "      <td>0.614</td>\n",
       "      <td>23.0</td>\n",
       "      <td>0</td>\n",
       "    </tr>\n",
       "    <tr>\n",
       "      <th>402</th>\n",
       "      <td>5</td>\n",
       "      <td>136.0</td>\n",
       "      <td>84</td>\n",
       "      <td>88</td>\n",
       "      <td>35.0</td>\n",
       "      <td>0.286</td>\n",
       "      <td>35.0</td>\n",
       "      <td>1</td>\n",
       "    </tr>\n",
       "    <tr>\n",
       "      <th>612</th>\n",
       "      <td>7</td>\n",
       "      <td>168.0</td>\n",
       "      <td>88</td>\n",
       "      <td>321</td>\n",
       "      <td>38.2</td>\n",
       "      <td>0.787</td>\n",
       "      <td>40.0</td>\n",
       "      <td>1</td>\n",
       "    </tr>\n",
       "    <tr>\n",
       "      <th>117</th>\n",
       "      <td>5</td>\n",
       "      <td>78.0</td>\n",
       "      <td>48</td>\n",
       "      <td>0</td>\n",
       "      <td>33.7</td>\n",
       "      <td>0.654</td>\n",
       "      <td>25.0</td>\n",
       "      <td>0</td>\n",
       "    </tr>\n",
       "  </tbody>\n",
       "</table>\n",
       "</div>"
      ],
      "text/plain": [
       "     TimesPregnant  glucoseLevel  BP  insulin   BMI  Pedigree   Age  \\\n",
       "231              6         134.0  80      370  46.2     0.238  46.0   \n",
       "679              2         101.0  58      265  24.2     0.614  23.0   \n",
       "402              5         136.0  84       88  35.0     0.286  35.0   \n",
       "612              7         168.0  88      321  38.2     0.787  40.0   \n",
       "117              5          78.0  48        0  33.7     0.654  25.0   \n",
       "\n",
       "     IsDiabetic  \n",
       "231           1  \n",
       "679           0  \n",
       "402           1  \n",
       "612           1  \n",
       "117           0  "
      ]
     },
     "execution_count": 12,
     "metadata": {},
     "output_type": "execute_result"
    }
   ],
   "source": [
    "test_df.fillna(test_df.mean(),inplace=True)\n",
    "test_df.head()"
   ]
  },
  {
   "cell_type": "markdown",
   "metadata": {},
   "source": [
    "**5. Split __`train_df`__ & __`test_df`__   into  __`X_train`__, __`Y_train`__  and __`X_test`__, __`Y_test`__. __`Y_train`__  and __`Y_test`__ should only have the column we are trying to predict,  __`IsDiabetic`__.**"
   ]
  },
  {
   "cell_type": "code",
   "execution_count": 13,
   "metadata": {},
   "outputs": [],
   "source": [
    "X_train=train_df.iloc[:,:-1]\n",
    "Y_train=train_df['IsDiabetic']\n",
    "X_test=test_df.iloc[:,:-1]\n",
    "Y_test=test_df['IsDiabetic']\n"
   ]
  },
  {
   "cell_type": "markdown",
   "metadata": {},
   "source": [
    "**6. Use this dataset to train perceptron, logistic regression and random forest models using 15% test split. Report training and test accuracies. Try different hyperparameter values for these models and see if you can improve your accuracies.**"
   ]
  },
  {
   "cell_type": "code",
   "execution_count": 14,
   "metadata": {},
   "outputs": [
    {
     "name": "stdout",
     "output_type": "stream",
     "text": [
      "Logistic Training accuracy: 77.61 %\n",
      "Logistic Testing accuracy: 76.72 %\n"
     ]
    }
   ],
   "source": [
    "# 6a. Logistic Regression\n",
    "logreg = LogisticRegression()                                # instantiate\n",
    "logreg.fit(X_train, Y_train)                                 # fit\n",
    "Y_pred = logreg.predict(X_test)                               # predict\n",
    "log_train_acc= logreg.score(X_train, Y_train)              # evaluate\n",
    "log_test_acc= logreg.score(X_test, Y_test) \n",
    "\n",
    "print('Logistic Training accuracy:', str(round(log_train_acc*100,2)),'%')\n",
    "print('Logistic Testing accuracy:', str(round(log_test_acc*100,2)),'%')"
   ]
  },
  {
   "cell_type": "code",
   "execution_count": 15,
   "metadata": {},
   "outputs": [
    {
     "name": "stdout",
     "output_type": "stream",
     "text": [
      "Logistic Training accuracy: 64.57 %\n",
      "Logistic Testing accuracy: 65.52 %\n"
     ]
    }
   ],
   "source": [
    "# 6b. Perceptron\n",
    "perceptron = Perceptron()                                    # instantiate \n",
    "perceptron.fit(X_train, Y_train)                             # fit\n",
    "train_perceptron_acc = perceptron.score(X_train, Y_train)            # predict + evalaute\n",
    "test_perceptron_acc = perceptron.score(X_test, Y_test) \n",
    "\n",
    "print('Logistic Training accuracy:', str(round(train_perceptron_acc*100,2)),'%')\n",
    "print('Logistic Testing accuracy:', str(round(test_perceptron_acc*100,2)),'%')"
   ]
  },
  {
   "cell_type": "code",
   "execution_count": 16,
   "metadata": {},
   "outputs": [
    {
     "name": "stdout",
     "output_type": "stream",
     "text": [
      "K-Nearest Neighbors labeling accuracy: 100.0 %\n",
      "K-Nearest Neighbors labeling accuracy: 74.14 %\n"
     ]
    }
   ],
   "source": [
    "# 6c. Random Forest\n",
    "random_forest = RandomForestClassifier(n_estimators=500)   # instantiate\n",
    "random_forest.fit(X_train, Y_train)                         # fit\n",
    "test_acc_rf = random_forest.score(X_test, Y_test)                  # predict + evaluate\n",
    "train_acc_rf = random_forest.score(X_train, Y_train) \n",
    "\n",
    "print('K-Nearest Neighbors labeling accuracy:', str(round(train_acc_rf*100,2)),'%')\n",
    "print('K-Nearest Neighbors labeling accuracy:', str(round(test_acc_rf*100,2)),'%')"
   ]
  },
  {
   "cell_type": "markdown",
   "metadata": {},
   "source": [
    "**7. For your logistic regression model - **\n",
    "\n",
    "**a . Compute the log probability of classes in  __`IsDiabetic`__ for the first 10 samples of your train set and display it. Also display the predicted class for those samples from your logistic regression model trained before. **\n"
   ]
  },
  {
   "cell_type": "code",
   "execution_count": 17,
   "metadata": {},
   "outputs": [
    {
     "data": {
      "text/plain": [
       "array([[0.61828459, 0.38171541],\n",
       "       [0.84518263, 0.15481737],\n",
       "       [0.76634909, 0.23365091],\n",
       "       [0.84056017, 0.15943983],\n",
       "       [0.89223709, 0.10776291],\n",
       "       [0.76794159, 0.23205841],\n",
       "       [0.66536736, 0.33463264],\n",
       "       [0.87641951, 0.12358049],\n",
       "       [0.70241868, 0.29758132],\n",
       "       [0.21200328, 0.78799672]])"
      ]
     },
     "execution_count": 17,
     "metadata": {},
     "output_type": "execute_result"
    }
   ],
   "source": [
    "Y_predict_train = logreg.predict(X_train)\n",
    "Y_predict_train_proba = logreg.predict_proba(X_train)\n",
    "Y_predict_train_proba[:10]"
   ]
  },
  {
   "cell_type": "code",
   "execution_count": 18,
   "metadata": {
    "scrolled": true
   },
   "outputs": [
    {
     "name": "stdout",
     "output_type": "stream",
     "text": [
      "[0 0 0 0 0 0 0 0 0 1 0 0 0 0 1 0 1 1 1 0 0 0 0 1 1 0 0 1 0 1 0 1 0 0 0 0 0\n",
      " 0 1 0 1 0 0 0 1 0 0 1 0 0 0 0 1 0 0 0 1 0 0 1 1 0 0 0 0 0 0 0 1 0 0 0 0 0\n",
      " 1 0 1 0 0 1 0 0 0 0 0 0 1 1 0 0 0 1 0 1 1 0 0 1 0 1 0 1 1 0 0 0 0 0 1 0 1\n",
      " 0 0 1 0 1 1 1 0 0 0 0 0 0 1 0 1 1 0 0 1 0 1 0 0 0 1 0 0 0 1 0 0 1 1 0 0 1\n",
      " 1 1 0 0 0 0 0 0 0 1 1 0 0 1 0 0 0 0 1 1 0 0 1 0 0 0 0 0 0 0 0 0 0 1 1 0 0\n",
      " 0 0 0 1 0 0 0 0 0 1 1 0 0 0 1 0 1 1 1 0 1 0 0 0 0 0 0 1 0 0 0 0 0 0 1 0 0\n",
      " 0 0 0 0 1 1 0 0 0 1 0 0 0 0 0 0 0 0 0 0 1 1 1 0 0 0 1 0 1 1 0 0 0 0 0 1 0\n",
      " 0 0 0 0 1 0 0 0 0 0 0 1 0 0 0 0 0 0 1 1 0 0 0 0 0 0 1 0 0 0 0 0 0 0 0 0 1\n",
      " 0 0 1 0 0 0 0 1 0 0 0 1 0 0 1 0 0 0 0 1 0 0 0 0 1 0 0 1 0 0 0 0 0 0 0 0 1\n",
      " 1 0 0 0 0 0 0 1 1 0 0 0 0 0 0 0 0 1 0 1 0 0 0 0 1 1 0 0 0 0 0 0 1 0 0 0 1\n",
      " 1 1 0 1 0 1 0 0 1 0 0 1 1 0 1 1 0 0 0 1 0 0 0 0 1 1 0 0 0 0 1 0 1 0 0 0 0\n",
      " 1 0 0 0 1 0 0 0 1 0 0 0 0 1 0 0 1 0 0 0 0 0 0 0 1 0 0 0 1 1 0 0 0 0 0 0 1\n",
      " 0 0 0 0 0 0 1 0 1 1 1 1 0 0 0 0 0 1 0 0 0 0 1 1 1 1 1 0 0 0 0 0 1 0 0 0 1\n",
      " 0 1 1 0 0 0 0 1 0 1 0 0 0 1 0 0 1 1 0 0 0 0 0 0 0 0 0 1 0 0 0 0 0 0 1 1 0\n",
      " 0 0 0 0 0 0 0 0 0 0 0 0 0 0 1 1 0 0 0 0 1 0 0 0 0 0 0 0 0 0 0 1 1 0 0 0 0\n",
      " 1 0 0 0 0 0 0 0 0 0 0 0 0 0 0 0 1 0 0 0 1 1 0 0 0 0 0 0 1 0 1 0 0 0 0 0 1\n",
      " 0 0 0 0 0 0 1 0 0 0 1 1 0 1 0 1 0 1 0 0 0 0 0 0 0 1 0 0 0 0 0 0 0 0 0 1 0\n",
      " 0 0 0 1 1 1 0 1 0 0 0 0 0 1 1 0 0 0 0 0 0 0 1]\n"
     ]
    }
   ],
   "source": [
    "from sklearn import linear_model\n",
    "Xa = X_train\n",
    "Ya = Y_train\n",
    "\n",
    "logreg=linear_model.LogisticRegression(C=1e5)\n",
    "logreg.fit(Xa,Ya)\n",
    "\n",
    "Za=logreg.predict(Xa)\n",
    "\n",
    "print(Za)"
   ]
  },
  {
   "cell_type": "markdown",
   "metadata": {},
   "source": [
    "**b . Now compute the log probability of classes in  __`IsDiabetic`__ for the first 10 samples of your test set and display it. Also display the predicted class for those samples from your logistic regression model trained before.\n",
    " (using the model trained on the training set)**\n"
   ]
  },
  {
   "cell_type": "code",
   "execution_count": 19,
   "metadata": {},
   "outputs": [
    {
     "data": {
      "text/plain": [
       "array([[0.33154367, 0.66845633],\n",
       "       [0.92609574, 0.07390426],\n",
       "       [0.56414026, 0.43585974],\n",
       "       [0.15772943, 0.84227057],\n",
       "       [0.86375988, 0.13624012],\n",
       "       [0.94692741, 0.05307259],\n",
       "       [0.89198443, 0.10801557],\n",
       "       [0.90154739, 0.09845261],\n",
       "       [0.33607391, 0.66392609],\n",
       "       [0.18073041, 0.81926959]])"
      ]
     },
     "execution_count": 19,
     "metadata": {},
     "output_type": "execute_result"
    }
   ],
   "source": [
    "Y_predict_test = logreg.predict(X_test)\n",
    "Y_predict_test_proba = logreg.predict_proba(X_test)\n",
    "Y_predict_test_proba[:10]"
   ]
  },
  {
   "cell_type": "code",
   "execution_count": 20,
   "metadata": {},
   "outputs": [
    {
     "name": "stdout",
     "output_type": "stream",
     "text": [
      "[1 0 0 1 0 0 0 0 0 1 0 0 1 1 0 0 0 1 0 0 0 1 1 1 0 0 0 1 1 0 0 0 0 0 1 1 0\n",
      " 0 0 0 1 0 1 1 1 1 0 0 0 1 0 0 0 0 0 0 1 0 0 0 0 0 0 0 0 0 0 0 1 0 0 1 0 1\n",
      " 1 0 1 1 0 0 0 0 0 0 0 1 0 0 0 1 0 0 1 0 0 1 0 0 0 0 0 0 0 0 0 1 1 1 1 0 0\n",
      " 1 1 1 0 0]\n"
     ]
    }
   ],
   "source": [
    "from sklearn import linear_model\n",
    "Xb = X_test\n",
    "Yb = Y_test\n",
    "\n",
    "logreg=linear_model.LogisticRegression(C=1e5)\n",
    "logreg.fit(Xb,Yb)\n",
    "\n",
    "Zb=logreg.predict(Xb)\n",
    "\n",
    "print(Zb)"
   ]
  },
  {
   "cell_type": "markdown",
   "metadata": {},
   "source": [
    "**c . What can you interpret from the log probabilities and the predicted classes?**\n",
    "\n"
   ]
  },
  {
   "cell_type": "markdown",
   "metadata": {},
   "source": [
    "When the actual class is [0,1,0], the log probability give about 0.5/0.5 for class 0 and class 1 of the classes.\n",
    "And when more than two 0 or 1 continuously in the actual class, the log probability is nearly 0.9."
   ]
  },
  {
   "cell_type": "markdown",
   "metadata": {},
   "source": [
    "**8. Is mean imputation is the best type of imputation (as we did in 4.) to use? Why or why not? What are some other ways to impute the data?**"
   ]
  },
  {
   "cell_type": "markdown",
   "metadata": {},
   "source": [
    "Your answer here"
   ]
  },
  {
   "cell_type": "markdown",
   "metadata": {},
   "source": [
    "The mean imputation may not be the best type. Because some data may related to the other data so the mean may not be accurate, using the neighboring data may could better trend.\n",
    "Other ways to impute data: KNN, FKM, SVD, bPCA, MICE."
   ]
  },
  {
   "cell_type": "markdown",
   "metadata": {},
   "source": [
    "## Extra Credit (2 pts) - MANDATORY for students enrolled in IEOR 290"
   ]
  },
  {
   "cell_type": "markdown",
   "metadata": {},
   "source": [
    "\n",
    "**9.  Implement the K-Nearest Neighbours (https://en.wikipedia.org/wiki/K-nearest_neighbors_algorithm) algorithm for k=1 from scratch in python (do not use KNN from existing libraries). KNN uses Euclidean distance to find nearest neighbors. Split your dataset into test and train as before. Also fill in the null values with mean of features as done earlier. Use this algorithm to predict values for 'IsDiabetic' for your test set. Display your accuracy. **"
   ]
  },
  {
   "cell_type": "code",
   "execution_count": 55,
   "metadata": {},
   "outputs": [],
   "source": [
    "X_train_1 = X_train.values\n",
    "Y_train_1 = Y_train.values\n",
    "X_test_1=X_test.values\n",
    "Y_test_1=Y_test.values\n",
    "preds=[]"
   ]
  },
  {
   "cell_type": "code",
   "execution_count": 34,
   "metadata": {},
   "outputs": [],
   "source": [
    "def euclideanDistance(instance1, instance2, length):\n",
    "    distance = 0\n",
    "    for x in range(0,length):\n",
    "        distance += pow((instance1[x] - instance2[x]), 2)\n",
    "        return np.sqrt(distance)"
   ]
  },
  {
   "cell_type": "code",
   "execution_count": 35,
   "metadata": {},
   "outputs": [],
   "source": [
    "import operator \n",
    "def getNeighbors(trainingSet, testInstance, k):\n",
    "    distances = []\n",
    "    length = len(testInstance)-1\n",
    "    for x in range(len(trainingSet)):\n",
    "        dist = euclideanDistance(testInstance, trainingSet[x], length)\n",
    "        distances.append((trainingSet[x], dist))\n",
    "    #distances.sort(key=operator.itemgetter(1))\n",
    "    neighbors = []\n",
    "    for x in range(k):\n",
    "        neighbors.append(distances[x][0])\n",
    "    return neighbors"
   ]
  },
  {
   "cell_type": "code",
   "execution_count": 36,
   "metadata": {},
   "outputs": [
    {
     "name": "stdout",
     "output_type": "stream",
     "text": [
      "[array([  5.   , 132.   ,  80.   ,   0.   ,  26.8  ,   0.186,  69.   ])]\n"
     ]
    }
   ],
   "source": [
    "k = 1\n",
    "neighbors = getNeighbors(X_train_1, X_test_1, k)\n",
    "print(neighbors)"
   ]
  },
  {
   "cell_type": "code",
   "execution_count": 37,
   "metadata": {},
   "outputs": [],
   "source": [
    "# import operator\n",
    "def getResponse(neighbors):\n",
    "    classVotes = {}\n",
    "    for x in range(len(neighbors)):\n",
    "        response = neighbors[x][-1]\n",
    "        if response in classVotes:\n",
    "            classVotes[response] += 1\n",
    "        else:\n",
    "            classVotes[response] = 1\n",
    "    sortedVotes = sorted(classVotes.items(), key=operator.itemgetter(1), reverse=True)\n",
    "    return sortedVotes[0][0]"
   ]
  },
  {
   "cell_type": "code",
   "execution_count": 38,
   "metadata": {},
   "outputs": [
    {
     "name": "stdout",
     "output_type": "stream",
     "text": [
      "> predicted=69.0, actual=array([[6.00000000e+00, 1.34000000e+02, 8.00000000e+01, 3.70000000e+02,\n",
      "        4.62000000e+01, 2.38000000e-01, 4.60000000e+01],\n",
      "       [2.00000000e+00, 1.01000000e+02, 5.80000000e+01, 2.65000000e+02,\n",
      "        2.42000000e+01, 6.14000000e-01, 2.30000000e+01],\n",
      "       [5.00000000e+00, 1.36000000e+02, 8.40000000e+01, 8.80000000e+01,\n",
      "        3.50000000e+01, 2.86000000e-01, 3.50000000e+01],\n",
      "       [7.00000000e+00, 1.68000000e+02, 8.80000000e+01, 3.21000000e+02,\n",
      "        3.82000000e+01, 7.87000000e-01, 4.00000000e+01],\n",
      "       [5.00000000e+00, 7.80000000e+01, 4.80000000e+01, 0.00000000e+00,\n",
      "        3.37000000e+01, 6.54000000e-01, 2.50000000e+01],\n",
      "       [1.00000000e+00, 8.90000000e+01, 7.60000000e+01, 3.70000000e+01,\n",
      "        3.12000000e+01, 1.92000000e-01, 2.30000000e+01],\n",
      "       [3.00000000e+00, 8.40000000e+01, 7.20000000e+01, 0.00000000e+00,\n",
      "        3.72000000e+01, 2.67000000e-01, 2.80000000e+01],\n",
      "       [6.00000000e+00, 1.21330357e+02, 9.20000000e+01, 0.00000000e+00,\n",
      "        1.99000000e+01, 1.88000000e-01, 2.80000000e+01],\n",
      "       [4.00000000e+00, 1.73000000e+02, 7.00000000e+01, 1.68000000e+02,\n",
      "        2.97000000e+01, 3.61000000e-01, 3.30000000e+01],\n",
      "       [6.00000000e+00, 1.65000000e+02, 6.80000000e+01, 1.68000000e+02,\n",
      "        3.36000000e+01, 6.31000000e-01, 4.90000000e+01],\n",
      "       [1.00000000e+00, 1.16000000e+02, 7.80000000e+01, 1.80000000e+02,\n",
      "        3.61000000e+01, 4.96000000e-01, 2.50000000e+01],\n",
      "       [0.00000000e+00, 1.25000000e+02, 9.60000000e+01, 0.00000000e+00,\n",
      "        2.25000000e+01, 2.62000000e-01, 2.10000000e+01],\n",
      "       [1.00000000e+00, 1.47000000e+02, 9.40000000e+01, 0.00000000e+00,\n",
      "        4.93000000e+01, 3.58000000e-01, 2.70000000e+01],\n",
      "       [9.00000000e+00, 1.45000000e+02, 8.00000000e+01, 1.30000000e+02,\n",
      "        3.79000000e+01, 6.37000000e-01, 4.00000000e+01],\n",
      "       [3.00000000e+00, 1.15000000e+02, 6.60000000e+01, 1.40000000e+02,\n",
      "        3.81000000e+01, 1.50000000e-01, 2.80000000e+01],\n",
      "       [4.00000000e+00, 1.54000000e+02, 7.20000000e+01, 1.26000000e+02,\n",
      "        3.13000000e+01, 3.38000000e-01, 3.70000000e+01],\n",
      "       [1.00000000e+00, 8.20000000e+01, 6.40000000e+01, 9.50000000e+01,\n",
      "        2.12000000e+01, 4.15000000e-01, 2.30000000e+01],\n",
      "       [3.00000000e+00, 1.80000000e+02, 6.40000000e+01, 7.00000000e+01,\n",
      "        3.40000000e+01, 2.71000000e-01, 2.60000000e+01],\n",
      "       [1.00000000e+00, 7.30000000e+01, 5.00000000e+01, 0.00000000e+00,\n",
      "        2.30000000e+01, 2.48000000e-01, 2.10000000e+01],\n",
      "       [6.00000000e+00, 0.00000000e+00, 6.80000000e+01, 0.00000000e+00,\n",
      "        3.90000000e+01, 7.27000000e-01, 4.10000000e+01],\n",
      "       [7.00000000e+00, 1.14000000e+02, 6.40000000e+01, 0.00000000e+00,\n",
      "        2.74000000e+01, 7.32000000e-01, 3.40000000e+01],\n",
      "       [6.00000000e+00, 1.95000000e+02, 7.00000000e+01, 0.00000000e+00,\n",
      "        3.09000000e+01, 3.28000000e-01, 3.10000000e+01],\n",
      "       [9.00000000e+00, 1.30000000e+02, 7.00000000e+01, 0.00000000e+00,\n",
      "        3.42000000e+01, 6.52000000e-01, 4.50000000e+01],\n",
      "       [1.50000000e+01, 1.36000000e+02, 7.00000000e+01, 1.10000000e+02,\n",
      "        3.71000000e+01, 1.53000000e-01, 4.30000000e+01],\n",
      "       [0.00000000e+00, 1.19000000e+02, 6.40000000e+01, 9.20000000e+01,\n",
      "        3.49000000e+01, 7.25000000e-01, 2.30000000e+01],\n",
      "       [0.00000000e+00, 1.05000000e+02, 9.00000000e+01, 0.00000000e+00,\n",
      "        2.96000000e+01, 1.97000000e-01, 4.60000000e+01],\n",
      "       [5.00000000e+00, 1.22000000e+02, 8.60000000e+01, 0.00000000e+00,\n",
      "        3.47000000e+01, 2.90000000e-01, 3.30000000e+01],\n",
      "       [6.00000000e+00, 1.54000000e+02, 7.80000000e+01, 1.40000000e+02,\n",
      "        4.61000000e+01, 5.71000000e-01, 2.70000000e+01],\n",
      "       [5.00000000e+00, 1.87000000e+02, 7.60000000e+01, 2.07000000e+02,\n",
      "        4.36000000e+01, 1.03400000e+00, 5.30000000e+01],\n",
      "       [3.00000000e+00, 1.25000000e+02, 5.80000000e+01, 0.00000000e+00,\n",
      "        3.16000000e+01, 1.51000000e-01, 2.40000000e+01],\n",
      "       [3.00000000e+00, 1.28000000e+02, 7.80000000e+01, 0.00000000e+00,\n",
      "        2.11000000e+01, 2.68000000e-01, 5.50000000e+01],\n",
      "       [2.00000000e+00, 8.40000000e+01, 5.00000000e+01, 7.60000000e+01,\n",
      "        3.04000000e+01, 9.68000000e-01, 2.10000000e+01],\n",
      "       [7.00000000e+00, 1.36000000e+02, 7.40000000e+01, 1.35000000e+02,\n",
      "        2.60000000e+01, 6.47000000e-01, 5.10000000e+01],\n",
      "       [1.00000000e+00, 9.90000000e+01, 7.20000000e+01, 1.80000000e+01,\n",
      "        3.86000000e+01, 4.12000000e-01, 2.10000000e+01],\n",
      "       [8.00000000e+00, 1.00000000e+02, 7.40000000e+01, 2.15000000e+02,\n",
      "        3.94000000e+01, 6.61000000e-01, 4.30000000e+01],\n",
      "       [8.00000000e+00, 1.08000000e+02, 7.00000000e+01, 0.00000000e+00,\n",
      "        3.05000000e+01, 9.55000000e-01, 3.30000000e+01],\n",
      "       [5.00000000e+00, 1.08000000e+02, 7.20000000e+01, 7.50000000e+01,\n",
      "        3.61000000e+01, 2.63000000e-01, 3.30000000e+01],\n",
      "       [2.00000000e+00, 8.30000000e+01, 6.60000000e+01, 5.00000000e+01,\n",
      "        3.22000000e+01, 4.97000000e-01, 2.20000000e+01],\n",
      "       [1.00000000e+00, 1.22000000e+02, 6.40000000e+01, 1.56000000e+02,\n",
      "        3.51000000e+01, 6.92000000e-01, 3.00000000e+01],\n",
      "       [5.00000000e+00, 8.80000000e+01, 7.80000000e+01, 0.00000000e+00,\n",
      "        2.76000000e+01, 2.58000000e-01, 3.70000000e+01],\n",
      "       [8.00000000e+00, 1.88000000e+02, 7.80000000e+01, 0.00000000e+00,\n",
      "        4.79000000e+01, 1.37000000e-01, 4.30000000e+01],\n",
      "       [7.00000000e+00, 8.30000000e+01, 7.80000000e+01, 7.10000000e+01,\n",
      "        2.93000000e+01, 7.67000000e-01, 3.60000000e+01],\n",
      "       [1.00000000e+01, 1.29000000e+02, 7.60000000e+01, 1.22000000e+02,\n",
      "        3.59000000e+01, 2.80000000e-01, 3.90000000e+01],\n",
      "       [7.00000000e+00, 1.96000000e+02, 9.00000000e+01, 0.00000000e+00,\n",
      "        3.98000000e+01, 4.51000000e-01, 4.10000000e+01],\n",
      "       [8.00000000e+00, 1.83000000e+02, 6.40000000e+01, 0.00000000e+00,\n",
      "        2.33000000e+01, 6.72000000e-01, 3.43027523e+01],\n",
      "       [7.00000000e+00, 1.47000000e+02, 7.60000000e+01, 0.00000000e+00,\n",
      "        3.94000000e+01, 2.57000000e-01, 4.30000000e+01],\n",
      "       [2.00000000e+00, 1.00000000e+02, 6.80000000e+01, 7.10000000e+01,\n",
      "        3.85000000e+01, 3.24000000e-01, 2.60000000e+01],\n",
      "       [0.00000000e+00, 1.07000000e+02, 6.00000000e+01, 0.00000000e+00,\n",
      "        2.64000000e+01, 1.33000000e-01, 3.43027523e+01],\n",
      "       [5.00000000e+00, 1.09000000e+02, 7.50000000e+01, 0.00000000e+00,\n",
      "        3.60000000e+01, 5.46000000e-01, 6.00000000e+01],\n",
      "       [3.00000000e+00, 1.76000000e+02, 8.60000000e+01, 1.56000000e+02,\n",
      "        3.33000000e+01, 1.15400000e+00, 5.20000000e+01],\n",
      "       [2.00000000e+00, 1.21330357e+02, 7.60000000e+01, 2.00000000e+02,\n",
      "        3.59000000e+01, 4.83000000e-01, 2.60000000e+01],\n",
      "       [2.00000000e+00, 9.20000000e+01, 7.60000000e+01, 0.00000000e+00,\n",
      "        2.42000000e+01, 1.69800000e+00, 2.80000000e+01],\n",
      "       [8.00000000e+00, 9.50000000e+01, 7.20000000e+01, 0.00000000e+00,\n",
      "        3.68000000e+01, 4.85000000e-01, 5.70000000e+01],\n",
      "       [2.00000000e+00, 1.00000000e+02, 6.60000000e+01, 9.00000000e+01,\n",
      "        3.29000000e+01, 8.67000000e-01, 2.80000000e+01],\n",
      "       [1.00000000e+00, 9.50000000e+01, 6.60000000e+01, 3.80000000e+01,\n",
      "        1.96000000e+01, 3.34000000e-01, 2.50000000e+01],\n",
      "       [3.00000000e+00, 1.32000000e+02, 8.00000000e+01, 0.00000000e+00,\n",
      "        3.44000000e+01, 4.02000000e-01, 4.40000000e+01],\n",
      "       [8.00000000e+00, 1.96000000e+02, 7.60000000e+01, 2.80000000e+02,\n",
      "        3.75000000e+01, 6.05000000e-01, 5.70000000e+01],\n",
      "       [1.00000000e+00, 9.50000000e+01, 6.00000000e+01, 5.80000000e+01,\n",
      "        2.39000000e+01, 2.60000000e-01, 2.20000000e+01],\n",
      "       [1.00000000e+00, 1.25000000e+02, 7.00000000e+01, 1.10000000e+02,\n",
      "        2.43000000e+01, 2.21000000e-01, 2.50000000e+01],\n",
      "       [3.00000000e+00, 9.60000000e+01, 7.80000000e+01, 0.00000000e+00,\n",
      "        3.73000000e+01, 2.38000000e-01, 4.00000000e+01],\n",
      "       [2.00000000e+00, 9.30000000e+01, 6.40000000e+01, 1.60000000e+02,\n",
      "        3.80000000e+01, 6.74000000e-01, 2.30000000e+01],\n",
      "       [6.00000000e+00, 8.70000000e+01, 8.00000000e+01, 0.00000000e+00,\n",
      "        2.32000000e+01, 8.40000000e-02, 3.20000000e+01],\n",
      "       [1.00000000e+00, 1.39000000e+02, 4.60000000e+01, 8.30000000e+01,\n",
      "        2.87000000e+01, 6.54000000e-01, 2.20000000e+01],\n",
      "       [1.00000000e+00, 1.12000000e+02, 8.00000000e+01, 1.32000000e+02,\n",
      "        3.48000000e+01, 2.17000000e-01, 2.40000000e+01],\n",
      "       [2.00000000e+00, 5.60000000e+01, 5.60000000e+01, 4.50000000e+01,\n",
      "        2.42000000e+01, 3.32000000e-01, 3.43027523e+01],\n",
      "       [4.00000000e+00, 1.48000000e+02, 6.00000000e+01, 3.18000000e+02,\n",
      "        3.09000000e+01, 1.50000000e-01, 2.90000000e+01],\n",
      "       [2.00000000e+00, 1.08000000e+02, 5.20000000e+01, 6.30000000e+01,\n",
      "        3.25000000e+01, 3.18000000e-01, 2.20000000e+01],\n",
      "       [0.00000000e+00, 1.27000000e+02, 8.00000000e+01, 2.10000000e+02,\n",
      "        3.63000000e+01, 8.04000000e-01, 2.30000000e+01],\n",
      "       [9.00000000e+00, 1.02000000e+02, 7.60000000e+01, 0.00000000e+00,\n",
      "        3.29000000e+01, 6.65000000e-01, 4.60000000e+01],\n",
      "       [4.00000000e+00, 1.10000000e+02, 6.60000000e+01, 0.00000000e+00,\n",
      "        3.19000000e+01, 4.71000000e-01, 2.90000000e+01],\n",
      "       [2.00000000e+00, 9.90000000e+01, 5.20000000e+01, 9.40000000e+01,\n",
      "        2.46000000e+01, 6.37000000e-01, 2.10000000e+01],\n",
      "       [9.00000000e+00, 1.84000000e+02, 8.50000000e+01, 0.00000000e+00,\n",
      "        3.00000000e+01, 1.21300000e+00, 4.90000000e+01],\n",
      "       [4.00000000e+00, 8.30000000e+01, 8.60000000e+01, 0.00000000e+00,\n",
      "        2.93000000e+01, 3.17000000e-01, 3.40000000e+01],\n",
      "       [9.00000000e+00, 1.06000000e+02, 5.20000000e+01, 0.00000000e+00,\n",
      "        3.12000000e+01, 3.80000000e-01, 4.20000000e+01],\n",
      "       [5.00000000e+00, 1.21330357e+02, 9.80000000e+01, 0.00000000e+00,\n",
      "        5.29000000e+01, 2.09000000e-01, 3.43027523e+01],\n",
      "       [2.00000000e+00, 9.00000000e+01, 6.00000000e+01, 0.00000000e+00,\n",
      "        2.35000000e+01, 1.91000000e-01, 2.50000000e+01],\n",
      "       [9.00000000e+00, 1.22000000e+02, 5.60000000e+01, 0.00000000e+00,\n",
      "        3.33000000e+01, 1.11400000e+00, 3.30000000e+01],\n",
      "       [5.00000000e+00, 1.66000000e+02, 7.60000000e+01, 0.00000000e+00,\n",
      "        4.57000000e+01, 3.40000000e-01, 2.70000000e+01],\n",
      "       [6.00000000e+00, 1.05000000e+02, 8.00000000e+01, 0.00000000e+00,\n",
      "        3.25000000e+01, 8.78000000e-01, 3.43027523e+01],\n",
      "       [1.00000000e+00, 1.81000000e+02, 6.40000000e+01, 1.80000000e+02,\n",
      "        3.41000000e+01, 3.28000000e-01, 3.80000000e+01],\n",
      "       [1.00000000e+00, 1.24000000e+02, 7.40000000e+01, 0.00000000e+00,\n",
      "        2.78000000e+01, 1.00000000e-01, 3.00000000e+01],\n",
      "       [0.00000000e+00, 1.04000000e+02, 6.40000000e+01, 6.40000000e+01,\n",
      "        3.36000000e+01, 5.10000000e-01, 2.20000000e+01],\n",
      "       [4.00000000e+00, 1.14000000e+02, 6.40000000e+01, 0.00000000e+00,\n",
      "        2.89000000e+01, 1.26000000e-01, 2.40000000e+01],\n",
      "       [2.00000000e+00, 9.40000000e+01, 6.80000000e+01, 7.60000000e+01,\n",
      "        2.60000000e+01, 5.61000000e-01, 2.10000000e+01],\n",
      "       [1.00000000e+00, 1.11000000e+02, 8.60000000e+01, 0.00000000e+00,\n",
      "        3.01000000e+01, 1.43000000e-01, 2.30000000e+01],\n",
      "       [8.00000000e+00, 1.86000000e+02, 9.00000000e+01, 2.25000000e+02,\n",
      "        3.45000000e+01, 4.23000000e-01, 3.70000000e+01],\n",
      "       [3.00000000e+00, 6.10000000e+01, 8.20000000e+01, 0.00000000e+00,\n",
      "        3.44000000e+01, 2.43000000e-01, 4.60000000e+01],\n",
      "       [6.00000000e+00, 1.05000000e+02, 7.00000000e+01, 6.80000000e+01,\n",
      "        3.08000000e+01, 1.22000000e-01, 3.70000000e+01],\n",
      "       [2.00000000e+00, 1.12000000e+02, 8.60000000e+01, 1.60000000e+02,\n",
      "        3.84000000e+01, 2.46000000e-01, 2.80000000e+01],\n",
      "       [7.00000000e+00, 1.50000000e+02, 7.80000000e+01, 1.26000000e+02,\n",
      "        3.52000000e+01, 6.92000000e-01, 5.40000000e+01],\n",
      "       [1.00000000e+00, 1.08000000e+02, 6.00000000e+01, 1.78000000e+02,\n",
      "        3.55000000e+01, 4.15000000e-01, 2.40000000e+01],\n",
      "       [2.00000000e+00, 8.80000000e+01, 7.40000000e+01, 5.30000000e+01,\n",
      "        2.90000000e+01, 2.29000000e-01, 2.20000000e+01],\n",
      "       [5.00000000e+00, 1.37000000e+02, 1.08000000e+02, 0.00000000e+00,\n",
      "        4.88000000e+01, 2.27000000e-01, 3.70000000e+01],\n",
      "       [0.00000000e+00, 1.13000000e+02, 7.60000000e+01, 0.00000000e+00,\n",
      "        3.33000000e+01, 2.78000000e-01, 3.43027523e+01],\n",
      "       [5.00000000e+00, 1.21000000e+02, 7.20000000e+01, 1.12000000e+02,\n",
      "        2.62000000e+01, 2.45000000e-01, 3.00000000e+01],\n",
      "       [3.00000000e+00, 1.74000000e+02, 5.80000000e+01, 1.94000000e+02,\n",
      "        3.29000000e+01, 5.93000000e-01, 3.60000000e+01],\n",
      "       [4.00000000e+00, 1.10000000e+02, 7.60000000e+01, 1.00000000e+02,\n",
      "        2.84000000e+01, 1.18000000e-01, 2.70000000e+01],\n",
      "       [1.00000000e+01, 1.15000000e+02, 0.00000000e+00, 0.00000000e+00,\n",
      "        0.00000000e+00, 2.61000000e-01, 3.00000000e+01],\n",
      "       [4.00000000e+00, 1.21330357e+02, 8.80000000e+01, 1.55000000e+02,\n",
      "        3.45000000e+01, 5.98000000e-01, 2.80000000e+01],\n",
      "       [6.00000000e+00, 1.66000000e+02, 7.40000000e+01, 0.00000000e+00,\n",
      "        2.66000000e+01, 3.04000000e-01, 6.60000000e+01],\n",
      "       [1.00000000e+00, 1.35000000e+02, 5.40000000e+01, 0.00000000e+00,\n",
      "        2.67000000e+01, 6.87000000e-01, 6.20000000e+01],\n",
      "       [2.00000000e+00, 1.08000000e+02, 6.20000000e+01, 2.78000000e+02,\n",
      "        2.53000000e+01, 8.81000000e-01, 2.20000000e+01],\n",
      "       [1.00000000e+00, 1.26000000e+02, 5.60000000e+01, 1.52000000e+02,\n",
      "        2.87000000e+01, 8.01000000e-01, 2.10000000e+01],\n",
      "       [1.00000000e+00, 9.00000000e+01, 6.20000000e+01, 5.90000000e+01,\n",
      "        2.51000000e+01, 1.26800000e+00, 2.50000000e+01],\n",
      "       [5.00000000e+00, 9.50000000e+01, 7.20000000e+01, 0.00000000e+00,\n",
      "        3.77000000e+01, 3.70000000e-01, 3.43027523e+01],\n",
      "       [0.00000000e+00, 1.17000000e+02, 0.00000000e+00, 0.00000000e+00,\n",
      "        3.38000000e+01, 9.32000000e-01, 4.40000000e+01],\n",
      "       [7.00000000e+00, 1.29000000e+02, 6.80000000e+01, 1.25000000e+02,\n",
      "        3.85000000e+01, 4.39000000e-01, 4.30000000e+01],\n",
      "       [7.00000000e+00, 1.50000000e+02, 6.60000000e+01, 3.42000000e+02,\n",
      "        3.47000000e+01, 7.18000000e-01, 4.20000000e+01],\n",
      "       [6.00000000e+00, 1.54000000e+02, 7.40000000e+01, 1.93000000e+02,\n",
      "        2.93000000e+01, 8.39000000e-01, 3.90000000e+01],\n",
      "       [5.00000000e+00, 1.04000000e+02, 7.40000000e+01, 0.00000000e+00,\n",
      "        2.88000000e+01, 1.53000000e-01, 4.80000000e+01],\n",
      "       [5.00000000e+00, 7.30000000e+01, 6.00000000e+01, 0.00000000e+00,\n",
      "        2.68000000e+01, 2.68000000e-01, 2.70000000e+01],\n",
      "       [1.20000000e+01, 8.80000000e+01, 7.40000000e+01, 5.40000000e+01,\n",
      "        3.53000000e+01, 3.78000000e-01, 4.80000000e+01],\n",
      "       [7.00000000e+00, 1.59000000e+02, 6.40000000e+01, 0.00000000e+00,\n",
      "        2.74000000e+01, 2.94000000e-01, 4.00000000e+01],\n",
      "       [7.00000000e+00, 1.00000000e+02, 0.00000000e+00, 0.00000000e+00,\n",
      "        3.00000000e+01, 4.84000000e-01, 3.20000000e+01],\n",
      "       [7.00000000e+00, 1.79000000e+02, 9.50000000e+01, 0.00000000e+00,\n",
      "        3.42000000e+01, 1.64000000e-01, 6.00000000e+01],\n",
      "       [9.00000000e+00, 1.19000000e+02, 8.00000000e+01, 0.00000000e+00,\n",
      "        2.90000000e+01, 2.63000000e-01, 2.90000000e+01]])\n"
     ]
    }
   ],
   "source": [
    "response = getResponse(neighbors)\n",
    "predictions.append(response)\n",
    "print('> predicted=' + repr(response) + ', actual=' + repr(X_test_1))"
   ]
  },
  {
   "cell_type": "code",
   "execution_count": 39,
   "metadata": {},
   "outputs": [],
   "source": [
    "def getAccuracy(testSet, predictions):\n",
    "    correct = 0\n",
    "    for x in range(len(testSet)):\n",
    "        if testSet[x][-1] is predictions[x]:\n",
    "            correct += 1\n",
    "    return (correct/float(len(testSet))) * 100.0"
   ]
  },
  {
   "cell_type": "code",
   "execution_count": 56,
   "metadata": {},
   "outputs": [
    {
     "name": "stdout",
     "output_type": "stream",
     "text": [
      "Predictions -  [0, 0, 0, 0, 0, 0, 0, 0, 0, 0, 0, 0, 0, 0, 0, 0, 0, 0, 0, 0, 0, 0, 0, 0, 0, 0, 0, 0, 0, 0, 0, 0, 0, 0, 0, 0, 0, 0, 0, 0, 0, 0, 0, 0, 0, 0, 0, 0, 0, 0, 0, 0, 0, 0, 0, 0, 0, 0, 0, 0, 0, 0, 0, 0, 0, 0, 0, 0, 0, 0, 0, 0, 0, 0, 0, 0, 0, 0, 0, 0, 0, 0, 0, 0, 0, 0, 0, 0, 0, 0, 0, 0, 0, 0, 0, 0, 0, 0, 0, 0, 0, 0, 0, 0, 0, 0, 0, 0, 0, 0, 0, 0, 0, 0, 0, 0]\n",
      "Accuracy -  0.646551724137931\n"
     ]
    }
   ],
   "source": [
    "for i in range(X_test_1.shape[0]):\n",
    "    sample = X_test_1[i]\n",
    "    distances = X_train_1@sample\n",
    "    # array of distances for a vector in test set to each of the vectors in training set\n",
    "\n",
    "    minidx = np.argmin(distances)\n",
    "    # Y label in training set corresponding to the minimum distance \n",
    "    preds.append(Y_train_1[minidx])\n",
    "    \n",
    "print(\"Predictions - \", preds)\n",
    "preds = np.array(preds)\n",
    "differences = np.abs(preds - Y_test_1)\n",
    "accuracy = (len(differences)-np.sum(differences))/len(differences)\n",
    "print(\"Accuracy - \", accuracy)"
   ]
  },
  {
   "cell_type": "code",
   "execution_count": null,
   "metadata": {},
   "outputs": [],
   "source": []
  }
 ],
 "metadata": {
  "kernel_info": {
   "name": "data-x"
  },
  "kernelspec": {
   "display_name": "Python 3",
   "language": "python",
   "name": "python3"
  },
  "language_info": {
   "codemirror_mode": {
    "name": "ipython",
    "version": 3
   },
   "file_extension": ".py",
   "mimetype": "text/x-python",
   "name": "python",
   "nbconvert_exporter": "python",
   "pygments_lexer": "ipython3",
   "version": "3.7.1"
  },
  "nteract": {
   "version": "0.7.1"
  }
 },
 "nbformat": 4,
 "nbformat_minor": 2
}
