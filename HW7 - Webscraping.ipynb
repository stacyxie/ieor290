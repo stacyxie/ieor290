{
 "cells": [
  {
   "cell_type": "markdown",
   "metadata": {},
   "source": [
    "# Data-X Spring 2019: Homework 7\n",
    "\n",
    "### Webscraping\n",
    "\n",
    "\n",
    "\n",
    "In this homework, you will do some exercises with web-scraping."
   ]
  },
  {
   "cell_type": "markdown",
   "metadata": {},
   "source": [
    "## Name: Liyuan Xie\n",
    "\n",
    "## SID: 3034269866\n",
    "\n"
   ]
  },
  {
   "cell_type": "markdown",
   "metadata": {},
   "source": [
    "### Fun with Webscraping & Text manipulation\n"
   ]
  },
  {
   "cell_type": "markdown",
   "metadata": {
    "collapsed": true
   },
   "source": [
    "## 1. Statistics in Presidential Debates\n",
    "\n",
    "Your first task is to scrape Presidential Debates from the Commission of Presidential Debates website: https://www.debates.org/voter-education/debate-transcripts/\n",
    "\n",
    "To do this, you are not allowed to manually look up the URLs that you need, instead you have to scrape them. The root url to be scraped is the one listed above, namely: https://www.debates.org/voter-education/debate-transcripts/\n",
    "\n",
    "\n",
    "1. By using `requests` and `BeautifulSoup` find all the links / URLs on the website that links to transcriptions of **First Presidential Debates** from the years [1988, 1984, 1976, 1960]. In total you should find 4 links / URLs that fulfill this criteria. **Print the urls.**\n",
    "\n",
    "2. When you have a list of the URLs your task is to create a Data Frame with some statistics (see example of output below):\n",
    "    1. Scrape the title of each link and use that as the column name in your Data Frame. \n",
    "    2. Count how long the transcript of the debate is (as in the number of characters in transcription string). Feel free to include `\\` characters in your count, but remove any breakline characters, i.e. `\\n`. You will get credit if your count is +/- 10% from our result.\n",
    "    3. Count how many times the word **war** was used in the different debates. Note that you have to convert the text in a smart way (to not count the word **warranty** for example, but counting **war.**, **war!**, **war,** or **War** etc.\n",
    "    4. Also scrape the most common used word in the debate, and write how many times it was used. Note that you have to use the same strategy as in C in order to do this.\n",
    "    \n",
    "    **Print your final output result.**\n",
    "    \n",
    "**Tips:**\n",
    "\n",
    "___\n",
    "\n",
    "In order to solve the questions above, it can be useful to work with Regular Expressions and explore methods on strings like `.strip(), .replace(), .find(), .count(), .lower()` etc. Both are very powerful tools to do string processing in Python. To count common words for example I used a `Counter` object and a Regular expression pattern for only words, see example:\n",
    "\n",
    "```python\n",
    "    from collections import Counter\n",
    "    import re\n",
    "\n",
    "    counts = Counter(re.findall(r\"[\\w']+\", text.lower()))\n",
    "```\n",
    "\n",
    "Read more about Regular Expressions here: https://docs.python.org/3/howto/regex.html\n",
    "    \n",
    "    \n",
    "**Example output of all of the answers to Question 1.2:**\n",
    "\n",
    "\n",
    "![pres_stats_2](https://github.com/ikhlaqsidhu/data-x/raw/master/x-archive/misc/hw2_imgs_spring2018/presidents_stats_2.jpg)\n",
    "\n",
    "\n",
    "\n",
    "----\n",
    "\n",
    ".\n",
    "\n",
    "\n"
   ]
  },
  {
   "cell_type": "code",
   "execution_count": 38,
   "metadata": {},
   "outputs": [
    {
     "data": {
      "text/html": [
       "<style>.container { width:90% !important; }</style>"
      ],
      "text/plain": [
       "<IPython.core.display.HTML object>"
      ]
     },
     "metadata": {},
     "output_type": "display_data"
    }
   ],
   "source": [
    "# your code here\n",
    "from IPython.core.display import display, HTML\n",
    "display(HTML(\"<style>.container { width:90% !important; }</style>\"))\n",
    "import requests\n",
    "import bs4 as bs\n",
    "from collections import Counter\n",
    "import re"
   ]
  },
  {
   "cell_type": "code",
   "execution_count": 39,
   "metadata": {},
   "outputs": [
    {
     "name": "stdout",
     "output_type": "stream",
     "text": [
      "https://www.debates.org/voter-education/debate-transcripts/september-25-1988-debate-transcript/\n",
      "https://www.debates.org/voter-education/debate-transcripts/october-7-1984-debate-transcript/\n",
      "https://www.debates.org/voter-education/debate-transcripts/september-23-1976-debate-transcript/\n",
      "https://www.debates.org/voter-education/debate-transcripts/september-26-1960-debate-transcript/\n"
     ]
    }
   ],
   "source": [
    "source = requests.get('https://www.debates.org/voter-education/debate-transcripts/').content\n",
    "soup = bs.BeautifulSoup(source, 'html.parser')\n",
    "\n",
    "links = soup.findAll('a')\n",
    "first_urls=[]\n",
    "for url in links:\n",
    "    if str(url).count('The First'):\n",
    "        first = url.get('href')\n",
    "        if '1988' in first or '1984' in first or '1976' in first or '1960' in first:\n",
    "            first1='https://www.debates.org'+ first\n",
    "            print(first1)\n",
    "            first_urls.append(first1)"
   ]
  },
  {
   "cell_type": "code",
   "execution_count": 40,
   "metadata": {},
   "outputs": [
    {
     "data": {
      "text/html": [
       "<div>\n",
       "<style scoped>\n",
       "    .dataframe tbody tr th:only-of-type {\n",
       "        vertical-align: middle;\n",
       "    }\n",
       "\n",
       "    .dataframe tbody tr th {\n",
       "        vertical-align: top;\n",
       "    }\n",
       "\n",
       "    .dataframe thead th {\n",
       "        text-align: right;\n",
       "    }\n",
       "</style>\n",
       "<table border=\"1\" class=\"dataframe\">\n",
       "  <thead>\n",
       "    <tr style=\"text-align: right;\">\n",
       "      <th></th>\n",
       "      <th>CPD: September 25, 1988 Debate Transcript</th>\n",
       "      <th>CPD: October 7, 1984 Debate Transcript</th>\n",
       "      <th>CPD: September 23, 1976 Debate Transcript</th>\n",
       "      <th>CPD: September 26, 1960 Debate Transcript</th>\n",
       "    </tr>\n",
       "  </thead>\n",
       "  <tbody>\n",
       "    <tr>\n",
       "      <th>Debate char length</th>\n",
       "      <td>90027</td>\n",
       "      <td>89112</td>\n",
       "      <td>83132</td>\n",
       "      <td>63310</td>\n",
       "    </tr>\n",
       "    <tr>\n",
       "      <th>war_count</th>\n",
       "      <td>8</td>\n",
       "      <td>2</td>\n",
       "      <td>7</td>\n",
       "      <td>3</td>\n",
       "    </tr>\n",
       "    <tr>\n",
       "      <th>most_common_w</th>\n",
       "      <td>the</td>\n",
       "      <td>the</td>\n",
       "      <td>the</td>\n",
       "      <td>the</td>\n",
       "    </tr>\n",
       "    <tr>\n",
       "      <th>most_common_w_count</th>\n",
       "      <td>805</td>\n",
       "      <td>868</td>\n",
       "      <td>858</td>\n",
       "      <td>780</td>\n",
       "    </tr>\n",
       "  </tbody>\n",
       "</table>\n",
       "</div>"
      ],
      "text/plain": [
       "                    CPD: September 25, 1988 Debate Transcript  \\\n",
       "Debate char length                                      90027   \n",
       "war_count                                                   8   \n",
       "most_common_w                                             the   \n",
       "most_common_w_count                                       805   \n",
       "\n",
       "                    CPD: October 7, 1984 Debate Transcript  \\\n",
       "Debate char length                                   89112   \n",
       "war_count                                                2   \n",
       "most_common_w                                          the   \n",
       "most_common_w_count                                    868   \n",
       "\n",
       "                    CPD: September 23, 1976 Debate Transcript  \\\n",
       "Debate char length                                      83132   \n",
       "war_count                                                   7   \n",
       "most_common_w                                             the   \n",
       "most_common_w_count                                       858   \n",
       "\n",
       "                    CPD: September 26, 1960 Debate Transcript  \n",
       "Debate char length                                      63310  \n",
       "war_count                                                   3  \n",
       "most_common_w                                             the  \n",
       "most_common_w_count                                       780  "
      ]
     },
     "execution_count": 40,
     "metadata": {},
     "output_type": "execute_result"
    }
   ],
   "source": [
    "import pandas as pd\n",
    "dic={}        \n",
    "for urls in first_urls:\n",
    "    source2 = requests.get(urls).content\n",
    "    soup2 = bs.BeautifulSoup(source2, 'html.parser')\n",
    "    title = soup2.find('title').text\n",
    "    \n",
    "    col = []\n",
    "    count = len(soup2.text.strip('\\n'))\n",
    "    col.append(count)\n",
    "    war_dic = Counter(re.findall(r\"\\bwar\\b\", soup2.text.lower()))\n",
    "    war_count = war_dic['war']\n",
    "    col.append(war_count)\n",
    "    common = Counter(re.findall(r\"[\\w']+\", soup2.text.lower())).most_common(1)\n",
    "    most_common_w, most_common_w_count = common[0]\n",
    "    col.append(most_common_w)\n",
    "    col.append(most_common_w_count)\n",
    "    dic[title] = col\n",
    "\n",
    "df = pd.DataFrame(dic,index=['Debate char length', 'war_count', 'most_common_w', 'most_common_w_count'])\n",
    "df"
   ]
  },
  {
   "cell_type": "markdown",
   "metadata": {},
   "source": [
    "    \n",
    "## 2. Download and read in specific line from many data sets\n",
    "\n",
    "Scrape the first 27 data sets from this URL http://people.sc.fsu.edu/~jburkardt/datasets/regression/ (i.e.`x01.txt` - `x27.txt`). Then, save the 5th line in each data set, this should be the name of the data set author (get rid of the `#` symbol, the white spaces and the comma at the end). \n",
    "\n",
    "Count how many times (with a Python function) each author is the reference for one of the 27 data sets. Showcase your results, sorted, with the most common author name first and how many times he appeared in data sets. Use a Pandas DataFrame to show your results, see example. **Print your final output result.**\n",
    "\n",
    "**Example output of the answer for Question 2:**\n",
    "\n",
    "![author_stats](https://github.com/ikhlaqsidhu/data-x/raw/master/x-archive/misc/hw2_imgs_spring2018/data_authors.png)\n"
   ]
  },
  {
   "cell_type": "code",
   "execution_count": 41,
   "metadata": {},
   "outputs": [],
   "source": [
    "# your code here\n",
    "source = requests.get('http://people.sc.fsu.edu/~jburkardt/datasets/regression/').content\n",
    "soup = bs.BeautifulSoup(source, 'html.parser')\n",
    "\n",
    "file_link = []\n",
    "for url in soup.find_all('a'):\n",
    "    link = url.get('href')\n",
    "    if '.txt' in link:\n",
    "        file_link.append(link)\n",
    "files = file_link[0:27]"
   ]
  },
  {
   "cell_type": "code",
   "execution_count": 42,
   "metadata": {},
   "outputs": [
    {
     "data": {
      "text/html": [
       "<div>\n",
       "<style scoped>\n",
       "    .dataframe tbody tr th:only-of-type {\n",
       "        vertical-align: middle;\n",
       "    }\n",
       "\n",
       "    .dataframe tbody tr th {\n",
       "        vertical-align: top;\n",
       "    }\n",
       "\n",
       "    .dataframe thead th {\n",
       "        text-align: right;\n",
       "    }\n",
       "</style>\n",
       "<table border=\"1\" class=\"dataframe\">\n",
       "  <thead>\n",
       "    <tr style=\"text-align: right;\">\n",
       "      <th></th>\n",
       "      <th>Counts</th>\n",
       "    </tr>\n",
       "    <tr>\n",
       "      <th>Authors</th>\n",
       "      <th></th>\n",
       "    </tr>\n",
       "  </thead>\n",
       "  <tbody>\n",
       "    <tr>\n",
       "      <th>Helmut Spaeth</th>\n",
       "      <td>16</td>\n",
       "    </tr>\n",
       "    <tr>\n",
       "      <th>S Chatterjee, B Price</th>\n",
       "      <td>3</td>\n",
       "    </tr>\n",
       "    <tr>\n",
       "      <th>R J Freund and P D Minton</th>\n",
       "      <td>2</td>\n",
       "    </tr>\n",
       "    <tr>\n",
       "      <th>D G Kleinbaum and L L Kupper</th>\n",
       "      <td>2</td>\n",
       "    </tr>\n",
       "    <tr>\n",
       "      <th>S C Narula, J F Wellington</th>\n",
       "      <td>2</td>\n",
       "    </tr>\n",
       "    <tr>\n",
       "      <th>K A Brownlee</th>\n",
       "      <td>1</td>\n",
       "    </tr>\n",
       "    <tr>\n",
       "      <th>S Chatterjee and B Price</th>\n",
       "      <td>1</td>\n",
       "    </tr>\n",
       "  </tbody>\n",
       "</table>\n",
       "</div>"
      ],
      "text/plain": [
       "                              Counts\n",
       "Authors                             \n",
       "Helmut Spaeth                     16\n",
       "S Chatterjee, B Price              3\n",
       "R J Freund and P D Minton          2\n",
       "D G Kleinbaum and L L Kupper       2\n",
       "S C Narula, J F Wellington         2\n",
       "K A Brownlee                       1\n",
       "S Chatterjee and B Price           1"
      ]
     },
     "execution_count": 42,
     "metadata": {},
     "output_type": "execute_result"
    }
   ],
   "source": [
    "import urllib\n",
    "authors = []\n",
    "for url in files:\n",
    "    data = urllib.request.urlopen('http://people.sc.fsu.edu/~jburkardt/datasets/regression/' + url)\n",
    "    lines = []\n",
    "    for line in data:\n",
    "        lines.append(line)\n",
    "    author = str(lines[4])[7:-4]\n",
    "    authors.append(author)\n",
    "counts = {}\n",
    "for name in authors:\n",
    "    counts[name] = counts.get(name,0) +1\n",
    "df = pd.DataFrame.from_dict(counts, orient = 'index', columns = ['Counts'])\n",
    "df.index.name = 'Authors'\n",
    "df.sort_values(by=['Counts'], ascending = False)"
   ]
  },
  {
   "cell_type": "code",
   "execution_count": null,
   "metadata": {},
   "outputs": [],
   "source": []
  }
 ],
 "metadata": {
  "kernel_info": {
   "name": "data-x"
  },
  "kernelspec": {
   "display_name": "Python 3",
   "language": "python",
   "name": "python3"
  },
  "language_info": {
   "codemirror_mode": {
    "name": "ipython",
    "version": 3
   },
   "file_extension": ".py",
   "mimetype": "text/x-python",
   "name": "python",
   "nbconvert_exporter": "python",
   "pygments_lexer": "ipython3",
   "version": "3.7.1"
  },
  "nteract": {
   "version": "0.7.1"
  }
 },
 "nbformat": 4,
 "nbformat_minor": 2
}
